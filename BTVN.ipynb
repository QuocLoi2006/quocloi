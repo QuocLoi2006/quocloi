{
 "cells": [
  {
   "cell_type": "code",
   "id": "initial_id",
   "metadata": {
    "collapsed": true,
    "ExecuteTime": {
     "end_time": "2024-10-23T15:21:45.018042Z",
     "start_time": "2024-10-23T15:21:13.267835Z"
    }
   },
   "source": [
    "#Khai bao biến\n",
    "import pandas as pd\n",
    "import numpy as np\n",
    "filepath='dulieuchungkhoan.xlsx'\n",
    "sckhcm=pd.read_excel(filepath)\n",
    "company=pd.read_excel(filepath,sheet_name='Sheet1')\n",
    "total_assets=pd.read_excel(filepath,sheet_name='Sheet2')\n",
    "working_capital=pd.read_excel(filepath,sheet_name='Sheet3')\n",
    "retain_earning=pd.read_excel(filepath,sheet_name='Sheet4')\n",
    "ebit=pd.read_excel(filepath,sheet_name='Sheet5')\n",
    "total_liabilities=pd.read_excel(filepath,sheet_name='Sheet6')\n",
    "market_capitalization=pd.read_excel(filepath,sheet_name='Sheet7')\n",
    "revenue=pd.read_excel(filepath,sheet_name='Sheet8')"
   ],
   "outputs": [],
   "execution_count": 1
  },
  {
   "metadata": {
    "ExecuteTime": {
     "end_time": "2024-10-23T15:21:47.734768Z",
     "start_time": "2024-10-23T15:21:47.579495Z"
    }
   },
   "cell_type": "code",
   "source": [
    "#Lọc và đổi kiểu dữ liệu\n",
    "def to_int(giatri):\n",
    "    try:\n",
    "        return int(giatri)\n",
    "    except:\n",
    "        return pd.NA\n",
    "total_assets['Total Assets']=total_assets['Total Assets'].apply(to_int)\n",
    "working_capital['Working Capital']=working_capital['Working Capital'].apply(to_int)\n",
    "retain_earning['Retained Earnings']=retain_earning['Retained Earnings'].apply(to_int)\n",
    "ebit['EBIT']=ebit['EBIT'].apply(to_int)\n",
    "total_liabilities['Liabilities']=total_liabilities['Liabilities'].apply(to_int)\n",
    "market_capitalization['Market Capitalization']=market_capitalization['Market Capitalization'].apply(to_int)\n",
    "revenue['Revenue']=revenue['Revenue'].apply(to_int)\n",
    "total_assets=total_assets.dropna()\n",
    "working_capital=working_capital.dropna()\n",
    "retain_earning=retain_earning.dropna()\n",
    "ebit=ebit.dropna()\n",
    "total_liabilities=total_liabilities.dropna()\n",
    "market_capitalization=market_capitalization.dropna()\n",
    "revenue=revenue.dropna()\n"
   ],
   "id": "ff51eb20c7f22f4a",
   "outputs": [],
   "execution_count": 2
  },
  {
   "metadata": {
    "ExecuteTime": {
     "end_time": "2024-10-23T15:21:48.559130Z",
     "start_time": "2024-10-23T15:21:48.483604Z"
    }
   },
   "cell_type": "code",
   "source": [
    "#Tính toán Z Score\n",
    "x1=working_capital['Working Capital']/total_assets['Total Assets']\n",
    "x2=retain_earning['Retained Earnings']/total_assets['Total Assets']\n",
    "x3=ebit['EBIT']/total_assets['Total Assets']\n",
    "x4=market_capitalization['Market Capitalization']/total_liabilities['Liabilities']\n",
    "x5=revenue['Revenue']/total_assets['Total Assets']\n",
    "z=1.2*x1+1.4*x2+3.3*x3+0.64*x4+0.999*x5"
   ],
   "id": "f3ff5c7e02fca47",
   "outputs": [],
   "execution_count": 3
  },
  {
   "metadata": {
    "ExecuteTime": {
     "end_time": "2024-10-23T15:21:53.188360Z",
     "start_time": "2024-10-23T15:21:49.077305Z"
    }
   },
   "cell_type": "code",
   "source": [
    "#Lưu Zscore\n",
    "\n",
    "dulieu=pd.read_excel(r'trangthaicongty.xlsx')\n",
    "dulieu['Zscore']=z\n",
    "dulieu['Status']=''\n",
    "dulieu.to_excel('trangthaicongty.xlsx')"
   ],
   "id": "286b3dd433aaaec7",
   "outputs": [],
   "execution_count": 4
  },
  {
   "metadata": {
    "ExecuteTime": {
     "end_time": "2024-10-23T15:23:52.339955Z",
     "start_time": "2024-10-23T15:23:51.461267Z"
    }
   },
   "cell_type": "code",
   "source": [
    "dulieu['Status']=np.where(dulieu['Zscore']>3,\"Safe\",\n",
    "                          np.where(1.81<dulieu['Zscore']<3,\"Warning\",\n",
    "                          ny.where(dulieu['Zscore']<1.81,\"Danerous\")))"
   ],
   "id": "7e307dbdb2983b88",
   "outputs": [
    {
     "ename": "ValueError",
     "evalue": "The truth value of a Series is ambiguous. Use a.empty, a.bool(), a.item(), a.any() or a.all().",
     "output_type": "error",
     "traceback": [
      "\u001B[1;31m---------------------------------------------------------------------------\u001B[0m",
      "\u001B[1;31mValueError\u001B[0m                                Traceback (most recent call last)",
      "\u001B[1;32m~\\AppData\\Local\\Temp\\ipykernel_6728\\1950768207.py\u001B[0m in \u001B[0;36m?\u001B[1;34m()\u001B[0m\n\u001B[0;32m      1\u001B[0m dulieu['Status']=np.where(dulieu['Zscore']>3,\"Safe\",\n\u001B[1;32m----> 2\u001B[1;33m                           np.where(1.81<dulieu['Zscore']<3,\"Warning\",\n\u001B[0m\u001B[0;32m      3\u001B[0m                           \u001B[0mny\u001B[0m\u001B[1;33m.\u001B[0m\u001B[0mwhere\u001B[0m\u001B[1;33m(\u001B[0m\u001B[0mdulieu\u001B[0m\u001B[1;33m[\u001B[0m\u001B[1;34m'Zscore'\u001B[0m\u001B[1;33m]\u001B[0m\u001B[1;33m<\u001B[0m\u001B[1;36m1.81\u001B[0m\u001B[1;33m,\u001B[0m\u001B[1;34m\"Danerous\"\u001B[0m\u001B[1;33m)\u001B[0m\u001B[1;33m)\u001B[0m\u001B[1;33m)\u001B[0m\u001B[1;33m\u001B[0m\u001B[1;33m\u001B[0m\u001B[0m\n",
      "\u001B[1;32m~\\AppData\\Local\\Programs\\Python\\Python312\\Lib\\site-packages\\pandas\\core\\generic.py\u001B[0m in \u001B[0;36m?\u001B[1;34m(self)\u001B[0m\n\u001B[0;32m   1575\u001B[0m     \u001B[1;33m@\u001B[0m\u001B[0mfinal\u001B[0m\u001B[1;33m\u001B[0m\u001B[1;33m\u001B[0m\u001B[0m\n\u001B[0;32m   1576\u001B[0m     \u001B[1;32mdef\u001B[0m \u001B[0m__nonzero__\u001B[0m\u001B[1;33m(\u001B[0m\u001B[0mself\u001B[0m\u001B[1;33m)\u001B[0m \u001B[1;33m->\u001B[0m \u001B[0mNoReturn\u001B[0m\u001B[1;33m:\u001B[0m\u001B[1;33m\u001B[0m\u001B[1;33m\u001B[0m\u001B[0m\n\u001B[1;32m-> 1577\u001B[1;33m         raise ValueError(\n\u001B[0m\u001B[0;32m   1578\u001B[0m             \u001B[1;33mf\"\u001B[0m\u001B[1;33mThe truth value of a \u001B[0m\u001B[1;33m{\u001B[0m\u001B[0mtype\u001B[0m\u001B[1;33m(\u001B[0m\u001B[0mself\u001B[0m\u001B[1;33m)\u001B[0m\u001B[1;33m.\u001B[0m\u001B[0m__name__\u001B[0m\u001B[1;33m}\u001B[0m\u001B[1;33m is ambiguous. \u001B[0m\u001B[1;33m\"\u001B[0m\u001B[1;33m\u001B[0m\u001B[1;33m\u001B[0m\u001B[0m\n\u001B[0;32m   1579\u001B[0m             \u001B[1;34m\"Use a.empty, a.bool(), a.item(), a.any() or a.all().\"\u001B[0m\u001B[1;33m\u001B[0m\u001B[1;33m\u001B[0m\u001B[0m\n\u001B[0;32m   1580\u001B[0m         \u001B[1;33m)\u001B[0m\u001B[1;33m\u001B[0m\u001B[1;33m\u001B[0m\u001B[0m\n",
      "\u001B[1;31mValueError\u001B[0m: The truth value of a Series is ambiguous. Use a.empty, a.bool(), a.item(), a.any() or a.all()."
     ]
    }
   ],
   "execution_count": 6
  },
  {
   "metadata": {},
   "cell_type": "code",
   "outputs": [],
   "execution_count": null,
   "source": "",
   "id": "3afb4e6918f20d66"
  }
 ],
 "metadata": {
  "kernelspec": {
   "display_name": "Python 3",
   "language": "python",
   "name": "python3"
  },
  "language_info": {
   "codemirror_mode": {
    "name": "ipython",
    "version": 2
   },
   "file_extension": ".py",
   "mimetype": "text/x-python",
   "name": "python",
   "nbconvert_exporter": "python",
   "pygments_lexer": "ipython2",
   "version": "2.7.6"
  }
 },
 "nbformat": 4,
 "nbformat_minor": 5
}
