{
 "cells": [
  {
   "cell_type": "code",
   "id": "initial_id",
   "metadata": {
    "collapsed": true,
    "ExecuteTime": {
     "end_time": "2024-10-22T14:59:44.498479Z",
     "start_time": "2024-10-22T14:59:34.090350Z"
    }
   },
   "source": [
    "#Khai bao biến\n",
    "import pandas as pd\n",
    "from openpyxl.styles.builtins import total\n",
    "from prompt_toolkit.utils import to_int\n",
    "filepath='dulieuchungkhoan.xlsx'\n",
    "sckhcm=pd.read_excel(filepath)\n",
    "company=pd.read_excel(filepath,sheet_name='Sheet1')\n",
    "total_assets=pd.read_excel(filepath,sheet_name='Sheet2')\n",
    "working_capital=pd.read_excel(filepath,sheet_name='Sheet3')\n",
    "retain_earning=pd.read_excel(filepath,sheet_name='Sheet4')\n",
    "ebit=pd.read_excel(filepath,sheet_name='Sheet5')\n",
    "total_liabilities=pd.read_excel(filepath,sheet_name='Sheet6')\n",
    "market_capitalization=pd.read_excel(filepath,sheet_name='Sheet7')\n",
    "revenue=pd.read_excel(filepath,sheet_name='Sheet8')"
   ],
   "outputs": [],
   "execution_count": 82
  },
  {
   "metadata": {
    "ExecuteTime": {
     "end_time": "2024-10-22T14:59:46.400486Z",
     "start_time": "2024-10-22T14:59:46.346670Z"
    }
   },
   "cell_type": "code",
   "source": [
    "#Lọc và đổi kiểu dữ liệu\n",
    "def to_int(giatri):\n",
    "    try:\n",
    "        return int(giatri)\n",
    "    except:\n",
    "        return pd.NA\n",
    "total_assets['Total Assets']=total_assets['Total Assets'].apply(to_int)\n",
    "working_capital['Working Capital']=working_capital['Working Capital'].apply(to_int)\n",
    "retain_earning['Retained Earnings']=retain_earning['Retained Earnings'].apply(to_int)\n",
    "ebit['EBIT']=ebit['EBIT'].apply(to_int)\n",
    "total_liabilities['Liabilities']=total_liabilities['Liabilities'].apply(to_int)\n",
    "market_capitalization['Market Capitalization']=market_capitalization['Market Capitalization'].apply(to_int)\n",
    "revenue['Revenue']=revenue['Revenue'].apply(to_int)\n",
    "total_assets=total_assets.dropna()\n",
    "working_capital=working_capital.dropna()\n",
    "retain_earning=retain_earning.dropna()\n",
    "ebit=ebit.dropna()\n",
    "total_liabilities=total_liabilities.dropna()\n",
    "market_capitalization=market_capitalization.dropna()\n",
    "revenue=revenue.dropna()\n"
   ],
   "id": "ff51eb20c7f22f4a",
   "outputs": [],
   "execution_count": 83
  },
  {
   "metadata": {
    "ExecuteTime": {
     "end_time": "2024-10-22T14:59:48.631882Z",
     "start_time": "2024-10-22T14:59:48.608644Z"
    }
   },
   "cell_type": "code",
   "source": [
    "#Tính toán Z Score\n",
    "x1=working_capital['Working Capital']/total_assets['Total Assets']\n",
    "x2=retain_earning['Retained Earnings']/total_assets['Total Assets']\n",
    "x3=ebit['EBIT']/total_assets['Total Assets']\n",
    "x4=market_capitalization['Market Capitalization']/total_liabilities['Liabilities']\n",
    "x5=revenue['Revenue']/total_assets['Total Assets']\n",
    "z=1.2*x1+1.4*x2+3.3*x3+0.64*x4+0.999*x5"
   ],
   "id": "f3ff5c7e02fca47",
   "outputs": [],
   "execution_count": 84
  },
  {
   "metadata": {},
   "cell_type": "code",
   "outputs": [],
   "execution_count": null,
   "source": [
    "import numpy as np\n",
    "\n"
   ],
   "id": "ba52d497bdb9e800"
  },
  {
   "metadata": {
    "ExecuteTime": {
     "end_time": "2024-10-22T15:27:26.528865Z",
     "start_time": "2024-10-22T15:27:26.522494Z"
    }
   },
   "cell_type": "code",
   "source": [
    "#Lưu Zscore\n",
    "company['Zscore']=z\n",
    "company['Status']=''\n"
   ],
   "id": "286b3dd433aaaec7",
   "outputs": [],
   "execution_count": 101
  },
  {
   "metadata": {
    "ExecuteTime": {
     "end_time": "2024-10-22T15:40:53.404730Z",
     "start_time": "2024-10-22T15:40:53.386847Z"
    }
   },
   "cell_type": "code",
   "source": [
    "#phân tích trạng thái công ty\n",
    "if company['Zscore']>3:\n",
    "    company['Status']=='Safe'\n",
    "elif 1.81<company['Zscore']<3:\n",
    "    company['Status']=='Warning'\n",
    "elif company['Zscore']==0:\n",
    "    company['Status']=='No Determined'\n",
    "else:\n",
    "    company[Status]=='Dangerous'"
   ],
   "id": "c088417bf634eb02",
   "outputs": [
    {
     "ename": "ValueError",
     "evalue": "The truth value of a Series is ambiguous. Use a.empty, a.bool(), a.item(), a.any() or a.all().",
     "output_type": "error",
     "traceback": [
      "\u001B[1;31m---------------------------------------------------------------------------\u001B[0m",
      "\u001B[1;31mValueError\u001B[0m                                Traceback (most recent call last)",
      "\u001B[1;32m~\\AppData\\Local\\Temp\\ipykernel_25728\\1421532889.py\u001B[0m in \u001B[0;36m?\u001B[1;34m()\u001B[0m\n\u001B[0;32m      1\u001B[0m \u001B[1;31m#phân tích trạng thái công ty\u001B[0m\u001B[1;33m\u001B[0m\u001B[1;33m\u001B[0m\u001B[0m\n\u001B[1;32m----> 2\u001B[1;33m \u001B[1;32mif\u001B[0m \u001B[0mcompany\u001B[0m\u001B[1;33m[\u001B[0m\u001B[1;34m'Zscore'\u001B[0m\u001B[1;33m]\u001B[0m\u001B[1;33m>\u001B[0m\u001B[1;36m3\u001B[0m\u001B[1;33m:\u001B[0m\u001B[1;33m\u001B[0m\u001B[1;33m\u001B[0m\u001B[0m\n\u001B[0m\u001B[0;32m      3\u001B[0m     \u001B[0mcompany\u001B[0m\u001B[1;33m[\u001B[0m\u001B[1;34m'Status'\u001B[0m\u001B[1;33m]\u001B[0m\u001B[1;33m==\u001B[0m\u001B[1;34m'Safe'\u001B[0m\u001B[1;33m\u001B[0m\u001B[1;33m\u001B[0m\u001B[0m\n\u001B[0;32m      4\u001B[0m \u001B[1;32melif\u001B[0m \u001B[1;36m1.81\u001B[0m\u001B[1;33m<\u001B[0m\u001B[0mcompany\u001B[0m\u001B[1;33m[\u001B[0m\u001B[1;34m'Zscore'\u001B[0m\u001B[1;33m]\u001B[0m\u001B[1;33m<\u001B[0m\u001B[1;36m3\u001B[0m\u001B[1;33m:\u001B[0m\u001B[1;33m\u001B[0m\u001B[1;33m\u001B[0m\u001B[0m\n\u001B[0;32m      5\u001B[0m     \u001B[0mcompany\u001B[0m\u001B[1;33m[\u001B[0m\u001B[1;34m'Status'\u001B[0m\u001B[1;33m]\u001B[0m\u001B[1;33m==\u001B[0m\u001B[1;34m'Warning'\u001B[0m\u001B[1;33m\u001B[0m\u001B[1;33m\u001B[0m\u001B[0m\n",
      "\u001B[1;32m~\\AppData\\Local\\Programs\\Python\\Python312\\Lib\\site-packages\\pandas\\core\\generic.py\u001B[0m in \u001B[0;36m?\u001B[1;34m(self)\u001B[0m\n\u001B[0;32m   1575\u001B[0m     \u001B[1;33m@\u001B[0m\u001B[0mfinal\u001B[0m\u001B[1;33m\u001B[0m\u001B[1;33m\u001B[0m\u001B[0m\n\u001B[0;32m   1576\u001B[0m     \u001B[1;32mdef\u001B[0m \u001B[0m__nonzero__\u001B[0m\u001B[1;33m(\u001B[0m\u001B[0mself\u001B[0m\u001B[1;33m)\u001B[0m \u001B[1;33m->\u001B[0m \u001B[0mNoReturn\u001B[0m\u001B[1;33m:\u001B[0m\u001B[1;33m\u001B[0m\u001B[1;33m\u001B[0m\u001B[0m\n\u001B[1;32m-> 1577\u001B[1;33m         raise ValueError(\n\u001B[0m\u001B[0;32m   1578\u001B[0m             \u001B[1;33mf\"\u001B[0m\u001B[1;33mThe truth value of a \u001B[0m\u001B[1;33m{\u001B[0m\u001B[0mtype\u001B[0m\u001B[1;33m(\u001B[0m\u001B[0mself\u001B[0m\u001B[1;33m)\u001B[0m\u001B[1;33m.\u001B[0m\u001B[0m__name__\u001B[0m\u001B[1;33m}\u001B[0m\u001B[1;33m is ambiguous. \u001B[0m\u001B[1;33m\"\u001B[0m\u001B[1;33m\u001B[0m\u001B[1;33m\u001B[0m\u001B[0m\n\u001B[0;32m   1579\u001B[0m             \u001B[1;34m\"Use a.empty, a.bool(), a.item(), a.any() or a.all().\"\u001B[0m\u001B[1;33m\u001B[0m\u001B[1;33m\u001B[0m\u001B[0m\n\u001B[0;32m   1580\u001B[0m         \u001B[1;33m)\u001B[0m\u001B[1;33m\u001B[0m\u001B[1;33m\u001B[0m\u001B[0m\n",
      "\u001B[1;31mValueError\u001B[0m: The truth value of a Series is ambiguous. Use a.empty, a.bool(), a.item(), a.any() or a.all()."
     ]
    }
   ],
   "execution_count": 105
  },
  {
   "metadata": {},
   "cell_type": "code",
   "outputs": [],
   "execution_count": null,
   "source": "",
   "id": "7e307dbdb2983b88"
  }
 ],
 "metadata": {
  "kernelspec": {
   "display_name": "Python 3",
   "language": "python",
   "name": "python3"
  },
  "language_info": {
   "codemirror_mode": {
    "name": "ipython",
    "version": 2
   },
   "file_extension": ".py",
   "mimetype": "text/x-python",
   "name": "python",
   "nbconvert_exporter": "python",
   "pygments_lexer": "ipython2",
   "version": "2.7.6"
  }
 },
 "nbformat": 4,
 "nbformat_minor": 5
}
